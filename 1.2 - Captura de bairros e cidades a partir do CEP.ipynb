{
 "cells": [
  {
   "cell_type": "markdown",
   "id": "5664aa0b",
   "metadata": {},
   "source": [
    "Dado que as informações de bairro e cidade dos usuários do sistema de feiras são manualmente preenchidas, podem haver erros nestas informações. Para podermos fazer uma análise com mais qualidade, vamos aqui capturar o bairro e a cidade de todos os CEPs válidos presente no arquivo de compras e armazenar em um arquivo csv.<p>\n",
    "A recuperação das informações se dá por meio de chamada a API grauita disponibilizada no site http://viacep.com.br/.<p>\n",
    "A última execuação deste notebook foi em 9 de fevereiro de 2022, às 15∶28∶46."
   ]
  },
  {
   "cell_type": "code",
   "execution_count": 18,
   "id": "af9ba4c5",
   "metadata": {},
   "outputs": [],
   "source": [
    "import requests\n",
    "from requests.adapters import HTTPAdapter, Retry\n",
    "import pandas as pd\n",
    "from unidecode import unidecode\n",
    "import re"
   ]
  },
  {
   "cell_type": "markdown",
   "id": "7fe99211",
   "metadata": {},
   "source": [
    "# Leitura dos CEPs\n",
    "Vamos ler os CEPs presentes no arquivo, armazená-los em memória e formatá-los da maneira que a API espera (somente com dígitos) e com 8 bytes, sendo informados zeros não significativos caso necessário."
   ]
  },
  {
   "cell_type": "code",
   "execution_count": 72,
   "id": "e9be3b66",
   "metadata": {},
   "outputs": [],
   "source": [
    "# Leitura do arquivo\n",
    "df = pd.read_csv('arquivos/Arquivo inicial _202202191053.csv')\n",
    "\n",
    "# Padronização do formato do CEP\n",
    "df.dropna(subset=['cep_pedido'],inplace=True)\n",
    "df['cep_pedido'] = df['cep_pedido'].apply(lambda cep: re.sub('[^0-9]','',cep))\n",
    "df['cep_pedido'] = df['cep_pedido'].apply(lambda cep: f\"{int(cep):08d}\")\n",
    "\n",
    "# Colocação dos CEPs únicos em lista\n",
    "ceps = df[df['cep_pedido'].notnull()]['cep_pedido'].unique()"
   ]
  },
  {
   "cell_type": "markdown",
   "id": "9a0a6157",
   "metadata": {},
   "source": [
    "# Busca do bairro e da cidade\n",
    "Acessando a API para descobrir o bairro e a cidade de cada CEP. CEPs inválidos serão descartados. É possível saber que um CEP é inválido pelo retorno da API: não é retornado nome ou bairro para CEPs inválidos."
   ]
  },
  {
   "cell_type": "code",
   "execution_count": 73,
   "id": "1e8c3ec8",
   "metadata": {},
   "outputs": [],
   "source": [
    "s = requests.Session()\n",
    "retries = Retry(total=5, backoff_factor=1, status_forcelist=[ 502, 503, 504 ])\n",
    "s.mount('http://', HTTPAdapter(max_retries=retries))\n",
    "\n",
    "# Primeiramente vamos definir uma função que busca o bairro e a cidade\n",
    "def busca_end(cep):\n",
    "    url = 'https://viacep.com.br/ws/' + cep + '/json/'\n",
    "    content = s.get(url)\n",
    "    \n",
    "    if content.status_code == 200:\n",
    "        py_content = content.json()\n",
    "        if ('bairro' in py_content.keys()) and ('localidade' in py_content.keys()):\n",
    "            return py_content['bairro'],py_content['localidade']\n",
    "\n",
    "    return None,None"
   ]
  },
  {
   "cell_type": "markdown",
   "id": "b0cbf7bb",
   "metadata": {},
   "source": [
    "Agora vamos acionar a função para cada CEP."
   ]
  },
  {
   "cell_type": "code",
   "execution_count": 80,
   "id": "3e23c083",
   "metadata": {},
   "outputs": [
    {
     "name": "stdout",
     "output_type": "stream",
     "text": [
      "CEPs tratados: 50\n",
      "CEPs tratados: 100\n",
      "CEPs tratados: 150\n",
      "CEPs tratados: 200\n",
      "CEPs tratados: 250\n",
      "CEPs tratados: 300\n",
      "CEPs tratados: 350\n",
      "CEPs tratados: 400\n",
      "CEPs tratados: 450\n",
      "CEPs tratados: 500\n",
      "CEPs tratados: 550\n",
      "CEPs tratados: 600\n",
      "CEPs tratados: 650\n",
      "CEPs tratados: 700\n",
      "CEPs tratados: 750\n"
     ]
    }
   ],
   "source": [
    "ends = list()\n",
    "i = int()\n",
    "\n",
    "for cep in ceps:\n",
    "    bairro,cidade = busca_end(cep)\n",
    "    if bairro and cidade:\n",
    "        ends.append([cep,unidecode(bairro.lower()),unidecode(cidade.lower())])\n",
    "    \n",
    "    i += 1\n",
    "    if i % 50 == 0:\n",
    "        print(f\"CEPs tratados: {i}\")"
   ]
  },
  {
   "cell_type": "code",
   "execution_count": 81,
   "id": "78f5606d",
   "metadata": {},
   "outputs": [
    {
     "data": {
      "text/html": [
       "<div>\n",
       "<style scoped>\n",
       "    .dataframe tbody tr th:only-of-type {\n",
       "        vertical-align: middle;\n",
       "    }\n",
       "\n",
       "    .dataframe tbody tr th {\n",
       "        vertical-align: top;\n",
       "    }\n",
       "\n",
       "    .dataframe thead th {\n",
       "        text-align: right;\n",
       "    }\n",
       "</style>\n",
       "<table border=\"1\" class=\"dataframe\">\n",
       "  <thead>\n",
       "    <tr style=\"text-align: right;\">\n",
       "      <th></th>\n",
       "      <th>cep</th>\n",
       "      <th>bairro</th>\n",
       "      <th>cidade</th>\n",
       "    </tr>\n",
       "  </thead>\n",
       "  <tbody>\n",
       "    <tr>\n",
       "      <th>0</th>\n",
       "      <td>60150060</td>\n",
       "      <td>aldeota</td>\n",
       "      <td>fortaleza</td>\n",
       "    </tr>\n",
       "    <tr>\n",
       "      <th>1</th>\n",
       "      <td>60320105</td>\n",
       "      <td>sao gerardo</td>\n",
       "      <td>fortaleza</td>\n",
       "    </tr>\n",
       "    <tr>\n",
       "      <th>2</th>\n",
       "      <td>60713480</td>\n",
       "      <td>manoel satiro</td>\n",
       "      <td>fortaleza</td>\n",
       "    </tr>\n",
       "    <tr>\n",
       "      <th>3</th>\n",
       "      <td>60431075</td>\n",
       "      <td>rodolfo teofilo</td>\n",
       "      <td>fortaleza</td>\n",
       "    </tr>\n",
       "    <tr>\n",
       "      <th>4</th>\n",
       "      <td>60430660</td>\n",
       "      <td>rodolfo teofilo</td>\n",
       "      <td>fortaleza</td>\n",
       "    </tr>\n",
       "    <tr>\n",
       "      <th>...</th>\n",
       "      <td>...</td>\n",
       "      <td>...</td>\n",
       "      <td>...</td>\n",
       "    </tr>\n",
       "    <tr>\n",
       "      <th>749</th>\n",
       "      <td>60040420</td>\n",
       "      <td>fatima</td>\n",
       "      <td>fortaleza</td>\n",
       "    </tr>\n",
       "    <tr>\n",
       "      <th>750</th>\n",
       "      <td>04119000</td>\n",
       "      <td>vila mariana</td>\n",
       "      <td>sao paulo</td>\n",
       "    </tr>\n",
       "    <tr>\n",
       "      <th>751</th>\n",
       "      <td>60543322</td>\n",
       "      <td>bom jardim</td>\n",
       "      <td>fortaleza</td>\n",
       "    </tr>\n",
       "    <tr>\n",
       "      <th>752</th>\n",
       "      <td>60416020</td>\n",
       "      <td>jardim america</td>\n",
       "      <td>fortaleza</td>\n",
       "    </tr>\n",
       "    <tr>\n",
       "      <th>753</th>\n",
       "      <td>60768010</td>\n",
       "      <td>mondubim</td>\n",
       "      <td>fortaleza</td>\n",
       "    </tr>\n",
       "  </tbody>\n",
       "</table>\n",
       "<p>754 rows × 3 columns</p>\n",
       "</div>"
      ],
      "text/plain": [
       "          cep           bairro     cidade\n",
       "0    60150060          aldeota  fortaleza\n",
       "1    60320105      sao gerardo  fortaleza\n",
       "2    60713480    manoel satiro  fortaleza\n",
       "3    60431075  rodolfo teofilo  fortaleza\n",
       "4    60430660  rodolfo teofilo  fortaleza\n",
       "..        ...              ...        ...\n",
       "749  60040420           fatima  fortaleza\n",
       "750  04119000     vila mariana  sao paulo\n",
       "751  60543322       bom jardim  fortaleza\n",
       "752  60416020   jardim america  fortaleza\n",
       "753  60768010         mondubim  fortaleza\n",
       "\n",
       "[754 rows x 3 columns]"
      ]
     },
     "execution_count": 81,
     "metadata": {},
     "output_type": "execute_result"
    }
   ],
   "source": [
    "enderecos = pd.DataFrame(ends,columns=['cep','bairro','cidade'])\n",
    "enderecos"
   ]
  },
  {
   "cell_type": "markdown",
   "id": "d56fb1b2",
   "metadata": {},
   "source": [
    "# Salvando arquivo csv"
   ]
  },
  {
   "cell_type": "code",
   "execution_count": 83,
   "id": "b4fd195d",
   "metadata": {},
   "outputs": [],
   "source": [
    "enderecos.to_csv('arquivos/Endereços dos CEPs.csv',index=False)"
   ]
  },
  {
   "cell_type": "code",
   "execution_count": null,
   "id": "c98ff449",
   "metadata": {},
   "outputs": [],
   "source": []
  }
 ],
 "metadata": {
  "kernelspec": {
   "display_name": "Python 3 (ipykernel)",
   "language": "python",
   "name": "python3"
  },
  "language_info": {
   "codemirror_mode": {
    "name": "ipython",
    "version": 3
   },
   "file_extension": ".py",
   "mimetype": "text/x-python",
   "name": "python",
   "nbconvert_exporter": "python",
   "pygments_lexer": "ipython3",
   "version": "3.9.7"
  }
 },
 "nbformat": 4,
 "nbformat_minor": 5
}
